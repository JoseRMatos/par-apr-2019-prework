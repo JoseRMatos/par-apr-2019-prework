{
 "cells": [
  {
   "cell_type": "code",
   "execution_count": 44,
   "metadata": {},
   "outputs": [
    {
     "name": "stdout",
     "output_type": "stream",
     "text": [
      "Minimum temperature 0\n",
      "Maximum Temperature 83\n",
      "[76, 80, 80, 83, 79]\n",
      "The Mean is:  58.833333333333336\n",
      "62.5\n",
      "[33, 66, 65, 62.5, 59, 60, 62, 64, 70, 76, 80, 69, 80, 83, 68, 79, 61, 53, 50, 49, 53, 48, 45, 39]\n",
      "24\n",
      "[91.4, 150.8, 149.0, 143.60000000000002, 138.2, 140.0, 143.60000000000002, 147.2, 158.0, 168.8, 176.0, 156.2, 176.0, 181.4, 154.4, 174.20000000000002, 141.8, 127.4, 122.0, 120.2, 127.4, 118.4, 113.0, 102.2]\n"
     ]
    }
   ],
   "source": [
    "# assign a variable to the list of temperatures\n",
    "temperatures_C = [33,66,65,0,59,60,62,64,70,76,80,69,80,83,68,79,61,53,50,49,53,48,45,39]\n",
    "# 1. Calculate the minimum of the list and print the value using print()\n",
    "coldest = min(temperatures_C)\n",
    "print(\"Minimum temperature\", coldest)\n",
    "# 2. Calculate the maximum of the list and print the value using print()\n",
    "hottest = max(temperatures_C)\n",
    "print(\"Maximum Temperature\", hottest)\n",
    "\n",
    "# 3. Items in the list that are greater than 70ºC and print the result\n",
    "over70 = []\n",
    "for t in temperatures_C:\n",
    "    if t > 70:\n",
    "        over70.append(t)\n",
    "print(over70)        \n",
    "\n",
    "\n",
    "# 4. Calculate the mean temperature throughout the day and print the result\n",
    "mean =sum(temperatures_C)/len(temperatures_C)\n",
    "print(\"The Mean is: \", mean )\n",
    "\n",
    "# 5.1 Solve the fault in the sensor by estimating a value\n",
    "\n",
    "mean_part1 = sum(temperatures_C[1:3])/2\n",
    "mean_part2 = sum(temperatures_C[4:6])/2\n",
    "est_value = (mean_part1 + mean_part2)/2\n",
    "\n",
    "print(est_value)\n",
    "\n",
    "# 5.2 Update of the estimated value at 03:00 on the list\n",
    "\n",
    "temperatures_C[3]=est_value\n",
    "\n",
    "print(temperatures_C)\n",
    "\n",
    "# Bonus: convert the list of ºC to ºFarenheit\n",
    "temperatures_F = []\n",
    "print(len(temperatures_C))\n",
    "for i in range(0, len(temperatures_C)):\n",
    "    temperatures_F.append(i)\n",
    "    temperatures_F[i] = 1.8*int(temperatures_C[i])+32\n",
    "print(temperatures_F)\n",
    "\n",
    "\n",
    "\n",
    "\n"
   ]
  },
  {
   "cell_type": "code",
   "execution_count": 45,
   "metadata": {},
   "outputs": [
    {
     "name": "stdout",
     "output_type": "stream",
     "text": [
      "[76, 80, 80, 83, 79]\n",
      "The cooler must be replaced\n"
     ]
    }
   ],
   "source": [
    "#Take a decision\n",
    "print(over70)\n",
    "if len(over70) > 4 or hottest > 80 or mean > 65:\n",
    "    print(\"The cooler must be replaced\")"
   ]
  },
  {
   "cell_type": "code",
   "execution_count": 48,
   "metadata": {},
   "outputs": [
    {
     "name": "stdout",
     "output_type": "stream",
     "text": [
      "[9, 10, 12, 13, 15]\n"
     ]
    }
   ],
   "source": [
    "#Future Improvements\n",
    "# 1. We want the hours (not the temperatures) whose temperature exceeds 70ºC\n",
    "i=0\n",
    "time_over70 =[]\n",
    "for t in temperatures_C:\n",
    "    i += 1\n",
    "    if t > 70:\n",
    "        time_over70.append(i-1)\n",
    "print(time_over70) "
   ]
  },
  {
   "cell_type": "code",
   "execution_count": null,
   "metadata": {},
   "outputs": [],
   "source": [
    "# 2. Condition that those hours are more than 4 consecutive and consecutive, \n",
    "# not simply the sum of the whole set. Is this condition met?"
   ]
  },
  {
   "cell_type": "code",
   "execution_count": 49,
   "metadata": {},
   "outputs": [
    {
     "name": "stdout",
     "output_type": "stream",
     "text": [
      "The average en C:  61.4375\n",
      "The average en F:  142.54999999999998\n"
     ]
    }
   ],
   "source": [
    "# 3. Average of each of the lists (ºC and ºF). How they relate?\n",
    "meanC = sum(temperatures_C)/len(temperatures_C)\n",
    "meanF = sum(temperatures_F)/len(temperatures_F)\n",
    "print(\"The average en C: \", meanC)\n",
    "print(\"The average en F: \", meanF)"
   ]
  },
  {
   "cell_type": "code",
   "execution_count": 54,
   "metadata": {},
   "outputs": [
    {
     "name": "stdout",
     "output_type": "stream",
     "text": [
      "The Standard Deviation in C:  13.309483878464675\n",
      "The Standard Deviation in F:  86.95020286220026\n"
     ]
    }
   ],
   "source": [
    "# 4. Standard deviation of each of the lists. How they relate?\n",
    "variance_listC =[]\n",
    "for t in temperatures_C:\n",
    "    a = (t-mean)**2\n",
    "    variance_listC.append(a)\n",
    "stdevC = (sum(variance_listC)/len(temperatures_C))**0.5\n",
    "\n",
    "print(\"The Standard Deviation in C: \", stdevC)\n",
    "\n",
    "variance_listF =[]\n",
    "for t in temperatures_F:\n",
    "    a = (t-mean)**2\n",
    "    variance_listF.append(a)\n",
    "stdevF = (sum(variance_listF)/len(temperatures_F))**0.5\n",
    "\n",
    "print(\"The Standard Deviation in F: \", stdevF)\n",
    "    \n"
   ]
  },
  {
   "cell_type": "code",
   "execution_count": null,
   "metadata": {},
   "outputs": [],
   "source": []
  }
 ],
 "metadata": {
  "kernelspec": {
   "display_name": "Python 3",
   "language": "python",
   "name": "python3"
  },
  "language_info": {
   "codemirror_mode": {
    "name": "ipython",
    "version": 3
   },
   "file_extension": ".py",
   "mimetype": "text/x-python",
   "name": "python",
   "nbconvert_exporter": "python",
   "pygments_lexer": "ipython3",
   "version": "3.7.3"
  }
 },
 "nbformat": 4,
 "nbformat_minor": 2
}
