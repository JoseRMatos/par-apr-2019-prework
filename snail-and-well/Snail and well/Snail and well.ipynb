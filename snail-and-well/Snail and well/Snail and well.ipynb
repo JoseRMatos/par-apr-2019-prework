{
 "cells": [
  {
   "cell_type": "code",
   "execution_count": 6,
   "metadata": {},
   "outputs": [
    {
     "name": "stdout",
     "output_type": "stream",
     "text": [
      "Snail falls at the bottom of a weil \n",
      "Snail Going up\n",
      "Snail is going down\n",
      "Snail Going up\n",
      "Snail is going down\n",
      "Snail Going up\n",
      "Snail is going down\n",
      "Snail Going up\n",
      "Snail is going down\n",
      "Snail Going up\n",
      "Snail is going down\n",
      "Snail Going up\n",
      "Snail is going down\n",
      "Snail Going up\n",
      "Snail is going down\n",
      "Snail Going up\n",
      "Snail is going down\n",
      "Snail Going up\n",
      "Snail is going down\n",
      "Snail Going up\n",
      "Snail is going down\n",
      "Snail Going up\n",
      "Days=  11\n"
     ]
    }
   ],
   "source": [
    "#Assigning Variables\n",
    "\n",
    "well_height = int(125)\n",
    "daily_advance = int(30)\n",
    "night_retreat = int(20)\n",
    "accumulate_distance = 0\n",
    "days = int(0)\n",
    "\n",
    "print(\"Snail falls at the bottom of a weil \")\n",
    "\n",
    "\n",
    "\n",
    "#Use of loop While\n",
    "while accumulate_distance < well_height:\n",
    "    days = days + 1\n",
    "    print (\"Snail Going up\")\n",
    "    accumulate_distance += daily_advance\n",
    "    #Use of if-else\n",
    "    if accumulate_distance >= well_height:\n",
    "       print (\"Days= \", days)\n",
    "    else:\n",
    "        print(\"Snail is going down\")\n",
    "        accumulate_distance = accumulate_distance - night_retreat\n",
    "\n",
    "    \n",
    "    "
   ]
  },
  {
   "cell_type": "code",
   "execution_count": 13,
   "metadata": {},
   "outputs": [
    {
     "name": "stdout",
     "output_type": "stream",
     "text": [
      "Days=  5\n",
      "The Maximim distance is: 77\n",
      "The minimum distance is: 21\n",
      "The average progress is: 25.0\n"
     ]
    }
   ],
   "source": [
    "#Bonus\n",
    "advance_cm = [30, 21, 33, 77, 44,45, 23, 45, 12,34, 55]\n",
    "well_height = int(125)\n",
    "night_retreat = int(20)\n",
    "accumulate_distance = 0\n",
    "daily_advance=[]\n",
    "days = int(0)\n",
    "#Use of loop While\n",
    "while accumulate_distance < well_height:\n",
    "    daily_advance = int(advance_cm[int(days)])\n",
    "    accumulate_distance += daily_advance\n",
    "    days = days + 1\n",
    "    #Use of if-else\n",
    "    if accumulate_distance >= well_height:\n",
    "       print (\"Days= \", days)\n",
    "    else:\n",
    "        accumulate_distance = accumulate_distance - night_retreat\n",
    "print(\"The Maximim distance is:\", max(advance_cm[0:days]))\n",
    "print(\"The minimum distance is:\", min(advance_cm[0:days]))\n",
    "average = acumulative_distance/days\n",
    "print(\"The average progress is:\", average)\n",
    "\n",
    "#Standard Deviation\n",
    "\n",
    "\n",
    "\n",
    "\n",
    "        \n",
    "        "
   ]
  },
  {
   "cell_type": "code",
   "execution_count": null,
   "metadata": {},
   "outputs": [],
   "source": []
  },
  {
   "cell_type": "code",
   "execution_count": null,
   "metadata": {},
   "outputs": [],
   "source": []
  }
 ],
 "metadata": {
  "kernelspec": {
   "display_name": "Python 3",
   "language": "python",
   "name": "python3"
  },
  "language_info": {
   "codemirror_mode": {
    "name": "ipython",
    "version": 3
   },
   "file_extension": ".py",
   "mimetype": "text/x-python",
   "name": "python",
   "nbconvert_exporter": "python",
   "pygments_lexer": "ipython3",
   "version": "3.7.3"
  }
 },
 "nbformat": 4,
 "nbformat_minor": 2
}
