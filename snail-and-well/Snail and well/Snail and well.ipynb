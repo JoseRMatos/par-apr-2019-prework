{
 "cells": [
  {
   "cell_type": "code",
   "execution_count": 6,
   "metadata": {},
   "outputs": [
    {
     "name": "stdout",
     "output_type": "stream",
     "text": [
      "Snail falls at the bottom of a weil \n",
      "Snail Going up\n",
      "Snail is going down\n",
      "Snail Going up\n",
      "Snail is going down\n",
      "Snail Going up\n",
      "Snail is going down\n",
      "Snail Going up\n",
      "Snail is going down\n",
      "Snail Going up\n",
      "Snail is going down\n",
      "Snail Going up\n",
      "Snail is going down\n",
      "Snail Going up\n",
      "Snail is going down\n",
      "Snail Going up\n",
      "Snail is going down\n",
      "Snail Going up\n",
      "Snail is going down\n",
      "Snail Going up\n",
      "Snail is going down\n",
      "Snail Going up\n",
      "Days=  11\n"
     ]
    }
   ],
   "source": [
    "#Assigning Variables\n",
    "\n",
    "well_height = int(125)\n",
    "daily_advance = int(30)\n",
    "night_retreat = int(20)\n",
    "accumulate_distance = 0\n",
    "days = int(0)\n",
    "\n",
    "print(\"Snail falls at the bottom of a weil \")\n",
    "\n",
    "\n",
    "\n",
    "#Use of loop While\n",
    "while accumulate_distance < well_height:\n",
    "    days = days + 1\n",
    "    print (\"Snail Going up\")\n",
    "    accumulate_distance += daily_advance\n",
    "    #Use of if-else\n",
    "    if accumulate_distance >= well_height:\n",
    "       print (\"Days= \", days)\n",
    "    else:\n",
    "        print(\"Snail is going down\")\n",
    "        accumulate_distance = accumulate_distance - night_retreat\n",
    "\n",
    "    \n",
    "    "
   ]
  },
  {
   "cell_type": "code",
   "execution_count": 11,
   "metadata": {},
   "outputs": [
    {
     "name": "stdout",
     "output_type": "stream",
     "text": [
      "Days=  8\n",
      "The Maximim distance is: 77\n",
      "The minimum distance is: 21\n",
      "The average progress is: 17.875\n",
      "The Standard Deviation is:  37.60007480045751\n"
     ]
    }
   ],
   "source": [
    "#Bonus\n",
    "advance_cm = [30, 21, 33, 77, 44,45, 23, 45, 12,34, 55]\n",
    "well_height = int(125)\n",
    "night_retreat = int(20)\n",
    "accumulate_distance = 0\n",
    "daily_advance_list=[]\n",
    "days = int(0)\n",
    "#Use of loop While\n",
    "while accumulate_distance < well_height:\n",
    "    days = days + 1\n",
    "    daily_advance = advance_cm[days]\n",
    "    accumulate_distance += daily_advance\n",
    "    days = days + 1\n",
    "    \n",
    "   #Use of if-else\n",
    "    if accumulate_distance >= well_height:\n",
    "       print (\"Days= \", days)\n",
    "    else:\n",
    "        accumulate_distance = accumulate_distance - night_retreat\n",
    "        daily_advance_list.append(daily_advance)\n",
    "          \n",
    "        \n",
    "print(\"The Maximim distance is:\", max(daily_advance_list[0:days]))\n",
    "print(\"The minimum distance is:\", min(daily_advance_list[0:days]))\n",
    "average = sum(daily_advance_list)/days\n",
    "print(\"The average progress is:\", average)\n",
    "\n",
    "#Standard Deviation\n",
    "\n",
    "variance_progress =[]\n",
    "for t in daily_advance_list:\n",
    "    a = (t-average)**2\n",
    "    variance_progress.append(a)\n",
    "stdev = (sum(variance_progress)/len(daily_advance_list))**0.5\n",
    "\n",
    "print(\"The Standard Deviation is: \", stdev)        "
   ]
  },
  {
   "cell_type": "code",
   "execution_count": null,
   "metadata": {},
   "outputs": [],
   "source": []
  },
  {
   "cell_type": "code",
   "execution_count": null,
   "metadata": {},
   "outputs": [],
   "source": []
  }
 ],
 "metadata": {
  "kernelspec": {
   "display_name": "Python 3",
   "language": "python",
   "name": "python3"
  },
  "language_info": {
   "codemirror_mode": {
    "name": "ipython",
    "version": 3
   },
   "file_extension": ".py",
   "mimetype": "text/x-python",
   "name": "python",
   "nbconvert_exporter": "python",
   "pygments_lexer": "ipython3",
   "version": "3.7.3"
  }
 },
 "nbformat": 4,
 "nbformat_minor": 2
}
