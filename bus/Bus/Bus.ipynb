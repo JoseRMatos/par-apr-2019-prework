{
 "cells": [
  {
   "cell_type": "code",
   "execution_count": 2,
   "metadata": {},
   "outputs": [
    {
     "name": "stdout",
     "output_type": "stream",
     "text": [
      "The Number stops:  4\n",
      "In the stop#  1 are  30\n",
      "In the stop#  2 are  109\n",
      "In the stop#  3 are  90\n",
      "In the stop#  4 are  116\n",
      "The maximum occupation of the bus was:  116\n",
      "The Average is:  86.25\n",
      "The Standard Deviation is:  33.840619084171614\n"
     ]
    }
   ],
   "source": [
    "# variables\n",
    "bus_stop = ('in', 'out')\n",
    "stops = [('in1', 'out1'), ('in2', 'out2'), ('in3', 'out3'), ('in4', 'out4')]\n",
    "\n",
    "# 1. Calculate the number of stops.\n",
    "num_stops = len(stops)\n",
    "print(\"The Number stops: \", num_stops)\n",
    "\n",
    "# 2. Assign a variable a list whose elements are the number of passengers in each stop: \n",
    "# Each item depends on the previous item in the list + in - out.\n",
    "\n",
    "\n",
    "\n",
    "import random\n",
    "\n",
    "i = 0\n",
    "a = random.randrange(0,100,1)\n",
    "b = random.randrange(0,100,1)\n",
    "if b > a:\n",
    "    b = random.randrange(0,100,1)\n",
    "else:\n",
    "    num_passangers = (a - b)\n",
    "    count_passangers = []\n",
    "    while i < num_stops:\n",
    "        for (a, b) in stops:\n",
    "            a = random.randrange(0,100,1)\n",
    "            b = random.randrange(0,num_passangers,1)\n",
    "            num_passangers = (num_passangers + a - b)\n",
    "            stops[i] =(a, b)\n",
    "            count_passangers.append(num_passangers)\n",
    "            i += 1\n",
    "            print(\"In the stop# \", i, \"are \", num_passangers)\n",
    "            \n",
    "# 3. Find the maximum occupation of the bus.\n",
    "max_occupation = max(count_passangers)\n",
    "print(\"The maximum occupation of the bus was: \", max_occupation)\n",
    "# 4. Calculate the average occupation. And the standard deviation.\n",
    "average = sum(count_passangers)/len(count_passangers)\n",
    "print(\"The Average is: \", average)\n",
    "\n",
    "variance_occupation =[]\n",
    "for t in count_passangers:\n",
    "    a = (t-average)**2\n",
    "    variance_occupation.append(a)\n",
    "stdev = (sum(variance_occupation)/len(count_passangers))**0.5\n",
    "\n",
    "print(\"The Standard Deviation is: \", stdev)"
   ]
  },
  {
   "cell_type": "code",
   "execution_count": null,
   "metadata": {},
   "outputs": [],
   "source": []
  },
  {
   "cell_type": "code",
   "execution_count": null,
   "metadata": {},
   "outputs": [],
   "source": []
  }
 ],
 "metadata": {
  "kernelspec": {
   "display_name": "Python 3",
   "language": "python",
   "name": "python3"
  },
  "language_info": {
   "codemirror_mode": {
    "name": "ipython",
    "version": 3
   },
   "file_extension": ".py",
   "mimetype": "text/x-python",
   "name": "python",
   "nbconvert_exporter": "python",
   "pygments_lexer": "ipython3",
   "version": "3.7.3"
  }
 },
 "nbformat": 4,
 "nbformat_minor": 2
}
