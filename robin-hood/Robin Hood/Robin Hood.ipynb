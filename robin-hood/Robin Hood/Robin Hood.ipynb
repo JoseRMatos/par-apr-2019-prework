{
 "cells": [
  {
   "cell_type": "code",
   "execution_count": 34,
   "metadata": {},
   "outputs": [
    {
     "name": "stdout",
     "output_type": "stream",
     "text": [
      "6\n",
      "First quadrant:  10\n",
      "Second quadrant:  7\n",
      "Third quadrant:  1\n",
      "Fourth quadrant:  2\n",
      "Out quadrant:  2\n",
      "The clossest shot is  (0, -2)  with a distance of  2.0\n",
      "Shots in target 15\n"
     ]
    }
   ],
   "source": [
    "#Variables\n",
    "points = [(4, 5), (-0, 2), (4, 7), (1, -3), (3, -2),\n",
    "          (4, 5), (3, 2), (5, 7), (-5,7), (2, 2), (-4, 5),\n",
    "          (0, -2), (-4, 7), (-1, 3), (-3, 2), (-4, -5),\n",
    "          (-3, 2),  (5, 7),(5, 7), (2, 2), (9, 9), (-8, 9)]\n",
    "\n",
    "#1. Robin Hood is famous for hitting an arrow with another arrow. Did you get it?\n",
    "unique_points = list(set(points))\n",
    "\n",
    "\n",
    "\n",
    "    \n",
    "        \n",
    "# 2. Calculate how many arrows have fallen in each quadrant.\n",
    "\n",
    "first_quadrant = 0\n",
    "second_quadrant = 0\n",
    "third_quadrant = 0\n",
    "fourth_quadrant = 0 \n",
    "out_quadrant = 0\n",
    "for (x, y) in points:\n",
    "    if x>0 and y>0:\n",
    "        first_quadrant += 1\n",
    "    elif x<0 and y>0:\n",
    "        second_quadrant += 1\n",
    "    elif x<0 and y<0:\n",
    "        third_quadrant += 1\n",
    "    elif x>0 and y<0:\n",
    "        fourth_quadrant += 1\n",
    "    else:\n",
    "        out_quadrant += 1\n",
    "        \n",
    "print(\"First quadrant: \", first_quadrant)\n",
    "print(\"Second quadrant: \", second_quadrant)\n",
    "print(\"Third quadrant: \", third_quadrant)\n",
    "print(\"Fourth quadrant: \", fourth_quadrant)\n",
    "print(\"Out quadrant: \", out_quadrant)\n",
    "\n",
    "# 3. Find the point closest to the center. Calculate its distance to the center\n",
    "# Defining a function that calculates the distance to the center can help.\n",
    "arrow_distance = {}\n",
    "for (a, b) in unique_points:\n",
    "    longitud = (a**2 +b**2)**0.5\n",
    "    arrow_distance.update({(a, b):longitud})\n",
    "\n",
    "best_shot = min(arrow_distance.keys(), key = lambda k:arrow_distance[k])\n",
    "Shot = list(arrow_distance.keys())\n",
    "distance = list(arrow_distance.values())\n",
    "\n",
    "print(\"The clossest shot is \", Shot[distance.index(arrow_distance[best_shot])], \n",
    "      \" with a distance of \", arrow_distance[best_shot])\n",
    "\n",
    "# 4. If the target has a radius of 9, calculate the number of arrows that \n",
    "# must be picked up in the forest.\n",
    "target = 0\n",
    "out = 0\n",
    "for e in distance:\n",
    "    if e < 9:\n",
    "        target += 1\n",
    "    else:\n",
    "        out = 0\n",
    "print(\"Shots in target\", target)\n",
    "\n",
    "#Take decision\n"
   ]
  },
  {
   "cell_type": "code",
   "execution_count": null,
   "metadata": {},
   "outputs": [],
   "source": []
  },
  {
   "cell_type": "code",
   "execution_count": null,
   "metadata": {},
   "outputs": [],
   "source": []
  },
  {
   "cell_type": "code",
   "execution_count": null,
   "metadata": {},
   "outputs": [],
   "source": []
  }
 ],
 "metadata": {
  "kernelspec": {
   "display_name": "Python 3",
   "language": "python",
   "name": "python3"
  },
  "language_info": {
   "codemirror_mode": {
    "name": "ipython",
    "version": 3
   },
   "file_extension": ".py",
   "mimetype": "text/x-python",
   "name": "python",
   "nbconvert_exporter": "python",
   "pygments_lexer": "ipython3",
   "version": "3.7.3"
  }
 },
 "nbformat": 4,
 "nbformat_minor": 2
}
