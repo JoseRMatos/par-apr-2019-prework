{
 "cells": [
  {
   "cell_type": "code",
   "execution_count": 13,
   "metadata": {},
   "outputs": [
    {
     "name": "stdout",
     "output_type": "stream",
     "text": [
      "Clash # 1  Saruman win  23  against  10\n",
      "Clash # 2  Saruman win  66  against  11\n",
      "Clash # 3  Gandalf win  13  against  12\n",
      "Clash # 4  Saruman win  43  against  30\n",
      "Clash # 5  Gandalf win  22  against  12\n",
      "Clash # 6  Gandalf win  11  against  10\n",
      "Clash # 7  Saruman win  44  against  10\n",
      "Clash # 8  Gandalf win  33  against  23\n",
      "Clash # 9  Gandalf win  22  against  12\n",
      "Clash # 10  Gandalf win  22  against  17\n",
      "Gandalf wins:  6\n",
      "Saruman wins:  4\n"
     ]
    }
   ],
   "source": [
    "gandalf = [10, 11, 13, 30, 22, 11, 10, 33, 22, 22]\n",
    "saruman = [23, 66, 12, 43, 12, 10, 44, 23, 12, 17]\n",
    "gandalf_win = 0\n",
    "saruman_win = 0\n",
    "number_clash= int(len(gandalf))\n",
    "\n",
    "for i in range(number_clash):\n",
    "    if gandalf[i] > saruman[i]:\n",
    "        print(\"Clash #\", i+1, \" Gandalf win \", gandalf[i], \" against \", saruman[i])\n",
    "        gandalf_win += 1\n",
    "    elif gandalf[i] < saruman[i]:\n",
    "            print(\"Clash #\", i+1, \" Saruman win \", saruman[i], \" against \", gandalf[i])\n",
    "            saruman_win += 1\n",
    "    else:\n",
    "        print(\"It's a Tie\")\n",
    "print(\"Gandalf wins: \", gandalf_win)\n",
    "print(\"Saruman wins: \", saruman_win)\n"
   ]
  },
  {
   "cell_type": "code",
   "execution_count": 7,
   "metadata": {},
   "outputs": [
    {
     "name": "stdout",
     "output_type": "stream",
     "text": [
      "Gandalf use:  Fireball  vs Saruman use:  Contagion\n",
      "Gandalf win\n",
      "Gandalf use:  Lighting bolt  vs Saruman use:  Contagion\n",
      "Saruman win\n",
      "Gandalf use:  Lighting bolt  vs Saruman use:  Black Tentacles\n",
      "Gandalf win\n",
      "Gandalf use:  Magic arrow  vs Saruman use:  Fireball\n",
      "Saruman win\n",
      "Gandalf use:  Fireball  vs Saruman use:  Black Tentacles\n",
      "Gandalf win\n",
      "Gandalf use:  Magic arrow  vs Saruman use:  Lighting bolt\n",
      "Saruman win\n",
      "Gandalf use:  Lighting bolt  vs Saruman use:  Magic arrow\n",
      "Gandalf win\n",
      "Gandalf use:  Fireball  vs Saruman use:  Contagion\n",
      "Gandalf win\n",
      "Gandalf use:  Magic arrow  vs Saruman use:  Magic arrow\n",
      "It's a Tie\n",
      "Gandalf use:  Fireball  vs Saruman use:  Magic arrow\n",
      "Gandalf win\n",
      "Gandalf win the tournament\n",
      "Average Power of the Sorcerers\n",
      "Gandalf Power Average 35.0\n",
      "Saruman Power Average 30.5\n",
      "The Standard Deviation is:  16.881943016134134\n",
      "The Standard Deviation is:  15.56438241627338\n"
     ]
    }
   ],
   "source": [
    "# Bonus\n",
    "POWER = {'Fireball': 50,\n",
    "         'Lighting bolt': 40,\n",
    "         'Magic arrow': 10,\n",
    "         'Black Tentacles': 25,\n",
    "         'Contagion': 45\n",
    "        }\n",
    "gandalf = ['Fireball', 'Lighting bolt', 'Lighting bolt', 'Magic arrow', 'Fireball',\n",
    "           'Magic arrow', 'Lighting bolt', 'Fireball', 'Magic arrow', 'Fireball' ]\n",
    "saruman = ['Contagion', 'Contagion', 'Black Tentacles', 'Fireball', 'Black Tentacles',\n",
    "           'Lighting bolt', 'Magic arrow', 'Contagion', 'Magic arrow', 'Magic arrow']\n",
    "#Assing spell power lists to variables\n",
    "gandalf_win = 0\n",
    "saruman_win = 0\n",
    "#2. A Sorceres wins if succeeds in winning 3 spell clashes in a row.\n",
    "\n",
    "#Execution of a spell clashes\n",
    "\n",
    "for i in range(0,10):\n",
    "    if (gandalf_win < 3) and (saruman_win <3):\n",
    "        print('Gandalf use: ', gandalf[i], ' vs Saruman use: ', saruman[i])\n",
    "        if POWER[gandalf[i]] > POWER[saruman[i]]:\n",
    "            gandalf_win += 1\n",
    "            saruman_win = 0\n",
    "            print('Gandalf win')\n",
    "        elif POWER[gandalf[i]] < POWER[saruman[i]]:\n",
    "            saruman_win += 1\n",
    "            gandalf_win = 0\n",
    "            print('Saruman win')\n",
    "        else:\n",
    "            print(\"It's a Tie\")\n",
    "else:\n",
    "    if gandalf_win > saruman_win:\n",
    "        print(\"Gandalf win the tournament\")\n",
    "    else:\n",
    "        print(\"Saruman win the tournament\")\n",
    "\n",
    "#3. Average of each of spell lists\n",
    "print('Average Power of the Sorcerers')\n",
    "gandalf_power = 0\n",
    "saruman_power = 0\n",
    "for i in range(10):\n",
    "    gandalf_power += POWER[gandalf[i]]\n",
    "    saruman_power += POWER[saruman[i]]\n",
    "\n",
    "gandalf_average = gandalf_power/10\n",
    "saruman_average = saruman_power/10\n",
    "    \n",
    "print('Gandalf Power Average', gandalf_average)\n",
    "print('Saruman Power Average', saruman_average)\n",
    "\n",
    "#4. Standard Deviations\n",
    "\n",
    "#4.a Gandalf Standard Deviation\n",
    "\n",
    "variance_gandalf =[]\n",
    "for t in range(10):\n",
    "    a = (POWER[gandalf[t]]-gandalf_average)**2\n",
    "    variance_gandalf.append(a)\n",
    "stdev_gandalf = (sum(variance_gandalf)/10)**0.5\n",
    "\n",
    "print(\"The Gandalf Standard Deviation is: \", stdev_gandalf)\n",
    "\n",
    "#4.b Saruman Average\n",
    "variance_saruman =[]\n",
    "for t in range(10):\n",
    "    a = (POWER[saruman[t]]-saruman_average)**2\n",
    "    variance_saruman.append(a)\n",
    "stdev_saruman = (sum(variance_saruman)/10)**0.5\n",
    "\n",
    "print(\"The Saruman Standard Deviation is: \", stdev_saruman)\n",
    "    "
   ]
  },
  {
   "cell_type": "code",
   "execution_count": null,
   "metadata": {},
   "outputs": [],
   "source": []
  },
  {
   "cell_type": "code",
   "execution_count": null,
   "metadata": {},
   "outputs": [],
   "source": []
  },
  {
   "cell_type": "code",
   "execution_count": null,
   "metadata": {},
   "outputs": [],
   "source": []
  },
  {
   "cell_type": "code",
   "execution_count": null,
   "metadata": {},
   "outputs": [],
   "source": []
  },
  {
   "cell_type": "code",
   "execution_count": null,
   "metadata": {},
   "outputs": [],
   "source": []
  },
  {
   "cell_type": "code",
   "execution_count": null,
   "metadata": {},
   "outputs": [],
   "source": []
  },
  {
   "cell_type": "code",
   "execution_count": null,
   "metadata": {},
   "outputs": [],
   "source": []
  }
 ],
 "metadata": {
  "kernelspec": {
   "display_name": "Python 3",
   "language": "python",
   "name": "python3"
  },
  "language_info": {
   "codemirror_mode": {
    "name": "ipython",
    "version": 3
   },
   "file_extension": ".py",
   "mimetype": "text/x-python",
   "name": "python",
   "nbconvert_exporter": "python",
   "pygments_lexer": "ipython3",
   "version": "3.7.3"
  }
 },
 "nbformat": 4,
 "nbformat_minor": 2
}
